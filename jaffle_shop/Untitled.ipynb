{
 "cells": [
  {
   "cell_type": "code",
   "execution_count": 1,
   "id": "c5d898fc-dd9b-48af-a829-ed09b3ba8510",
   "metadata": {},
   "outputs": [],
   "source": [
    "import yaml"
   ]
  },
  {
   "cell_type": "code",
   "execution_count": 13,
   "id": "e0cdb7c6-354a-4d3d-9974-53b30bd80c00",
   "metadata": {},
   "outputs": [],
   "source": [
    "with open('models/movies/source.yml','r') as f:\n",
    "    sechema = f.read()"
   ]
  },
  {
   "cell_type": "code",
   "execution_count": 14,
   "id": "58e98b62-72f7-4ca0-845f-e0ef81883d1c",
   "metadata": {},
   "outputs": [
    {
     "data": {
      "text/plain": [
       "'version: 2\\n\\nsources:\\n  - name: movie_input\\n    schema: public\\n    tables:\\n      - name: movies\\n'"
      ]
     },
     "execution_count": 14,
     "metadata": {},
     "output_type": "execute_result"
    }
   ],
   "source": [
    "sechema"
   ]
  },
  {
   "cell_type": "code",
   "execution_count": 6,
   "id": "463b4712-b466-4314-a1b0-0847985dfc96",
   "metadata": {},
   "outputs": [
    {
     "name": "stdout",
     "output_type": "stream",
     "text": [
      "version: 2\n",
      "\n",
      "sources:\n",
      "  - name: movie_input\n",
      "    schema: public\n",
      "\ttables:\n",
      "\t  - name: movies\n",
      "\n"
     ]
    }
   ],
   "source": [
    "print(sechema)"
   ]
  },
  {
   "cell_type": "code",
   "execution_count": 12,
   "id": "3848e0a7-45da-4456-9065-1258e35144e7",
   "metadata": {},
   "outputs": [],
   "source": [
    "with open('models/movies/source.yml','r') as f:\n",
    "    sechema = yaml.safe_load(f)"
   ]
  },
  {
   "cell_type": "code",
   "execution_count": 5,
   "id": "ce036619-9886-414b-9a32-f8de8605871b",
   "metadata": {},
   "outputs": [
    {
     "data": {
      "text/plain": [
       "['yaml_test.yml', 'movies.sql', 'schema.yml']"
      ]
     },
     "execution_count": 5,
     "metadata": {},
     "output_type": "execute_result"
    }
   ],
   "source": [
    "import os\n",
    "os.listdir('models/movies/')"
   ]
  },
  {
   "cell_type": "code",
   "execution_count": null,
   "id": "b34dd4e0-de55-43cd-9aad-eb5af3f5947c",
   "metadata": {},
   "outputs": [],
   "source": []
  }
 ],
 "metadata": {
  "kernelspec": {
   "display_name": "Python 3 (ipykernel)",
   "language": "python",
   "name": "python3"
  },
  "language_info": {
   "codemirror_mode": {
    "name": "ipython",
    "version": 3
   },
   "file_extension": ".py",
   "mimetype": "text/x-python",
   "name": "python",
   "nbconvert_exporter": "python",
   "pygments_lexer": "ipython3",
   "version": "3.8.12"
  }
 },
 "nbformat": 4,
 "nbformat_minor": 5
}
